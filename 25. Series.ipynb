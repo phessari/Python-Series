{
 "cells": [
  {
   "cell_type": "markdown",
   "id": "e19967e2",
   "metadata": {},
   "source": [
    "# Series:\n",
    "\n",
    "A Series is an object with a one-dimensional array-like structure that holds a set of values along with an additional array of data labels (index)."
   ]
  },
  {
   "cell_type": "code",
   "execution_count": 1,
   "id": "c5f56003",
   "metadata": {},
   "outputs": [],
   "source": [
    "import pandas as pd\n",
    "import numpy as np"
   ]
  },
  {
   "cell_type": "code",
   "execution_count": null,
   "id": "18df6754",
   "metadata": {},
   "outputs": [],
   "source": []
  },
  {
   "cell_type": "code",
   "execution_count": null,
   "id": "6cce805c",
   "metadata": {},
   "outputs": [],
   "source": []
  },
  {
   "cell_type": "markdown",
   "id": "ff6fd0ea",
   "metadata": {},
   "source": [
    "### 1. Define Series using list"
   ]
  },
  {
   "cell_type": "code",
   "execution_count": 2,
   "id": "06c99214",
   "metadata": {},
   "outputs": [
    {
     "data": {
      "text/plain": [
       "0    a\n",
       "1    b\n",
       "2    c\n",
       "3    d\n",
       "dtype: object"
      ]
     },
     "execution_count": 2,
     "metadata": {},
     "output_type": "execute_result"
    }
   ],
   "source": [
    "myList = ['a', 'b', 'c', 'd']\n",
    "mySeries1 = pd.Series(myList)\n",
    "mySeries1"
   ]
  },
  {
   "cell_type": "code",
   "execution_count": 3,
   "id": "47ce9c7d",
   "metadata": {},
   "outputs": [
    {
     "data": {
      "text/plain": [
       "1    a\n",
       "2    b\n",
       "3    c\n",
       "4    d\n",
       "dtype: object"
      ]
     },
     "execution_count": 3,
     "metadata": {},
     "output_type": "execute_result"
    }
   ],
   "source": [
    "mySeries1 = pd.Series(myList, index=[1, 2, 3, 4])\n",
    "mySeries1"
   ]
  },
  {
   "cell_type": "code",
   "execution_count": 4,
   "id": "d71ef4e1",
   "metadata": {},
   "outputs": [
    {
     "data": {
      "text/plain": [
       "pandas.core.series.Series"
      ]
     },
     "execution_count": 4,
     "metadata": {},
     "output_type": "execute_result"
    }
   ],
   "source": [
    "type(mySeries1)"
   ]
  },
  {
   "cell_type": "code",
   "execution_count": null,
   "id": "570e47a8",
   "metadata": {},
   "outputs": [],
   "source": []
  },
  {
   "cell_type": "markdown",
   "id": "b153a279",
   "metadata": {},
   "source": [
    "### 2. Define Series using dictionary"
   ]
  },
  {
   "cell_type": "code",
   "execution_count": null,
   "id": "1b496a5f",
   "metadata": {},
   "outputs": [],
   "source": [
    "myDict = {1 : \"a\", 2 : \"b\", 3 : \"c\", 4 : \"d\"}\n",
    "mySeries2 = pd.Series(myDict)\n",
    "mySeries2"
   ]
  },
  {
   "cell_type": "code",
   "execution_count": null,
   "id": "a7d5da3a",
   "metadata": {},
   "outputs": [],
   "source": []
  },
  {
   "cell_type": "markdown",
   "id": "47879411",
   "metadata": {},
   "source": [
    "### 3. Define Series using array"
   ]
  },
  {
   "cell_type": "code",
   "execution_count": null,
   "id": "0a9b9958",
   "metadata": {},
   "outputs": [],
   "source": [
    "myArray = np.array(['a','b', 'c', 'd'])\n",
    "mySeries3 = pd.Series(myArray)\n",
    "mySeries3"
   ]
  },
  {
   "cell_type": "code",
   "execution_count": null,
   "id": "06fd7994",
   "metadata": {},
   "outputs": [],
   "source": []
  },
  {
   "cell_type": "code",
   "execution_count": null,
   "id": "df847ca6",
   "metadata": {},
   "outputs": [],
   "source": []
  },
  {
   "cell_type": "markdown",
   "id": "3c5e6af8",
   "metadata": {},
   "source": [
    "### Get the values and indices of a Series"
   ]
  },
  {
   "cell_type": "code",
   "execution_count": null,
   "id": "65a06f0c",
   "metadata": {},
   "outputs": [],
   "source": [
    "mySeries1.values"
   ]
  },
  {
   "cell_type": "code",
   "execution_count": null,
   "id": "54eb8461",
   "metadata": {},
   "outputs": [],
   "source": [
    "mySeries1.index"
   ]
  },
  {
   "cell_type": "code",
   "execution_count": null,
   "id": "5d923e50",
   "metadata": {},
   "outputs": [],
   "source": []
  },
  {
   "cell_type": "markdown",
   "id": "26e5a03f",
   "metadata": {},
   "source": [
    "### Use index to get values"
   ]
  },
  {
   "cell_type": "code",
   "execution_count": null,
   "id": "b126b5c6",
   "metadata": {},
   "outputs": [],
   "source": [
    "mySeries1[1]"
   ]
  },
  {
   "cell_type": "code",
   "execution_count": null,
   "id": "dde84f71",
   "metadata": {},
   "outputs": [],
   "source": [
    "mySeries1[1:3]"
   ]
  },
  {
   "cell_type": "code",
   "execution_count": null,
   "id": "e4bd1591",
   "metadata": {},
   "outputs": [],
   "source": [
    "mySeries1[[2, 1]]"
   ]
  },
  {
   "cell_type": "markdown",
   "id": "ee3b5cce",
   "metadata": {},
   "source": [
    "### change the values of Series"
   ]
  },
  {
   "cell_type": "code",
   "execution_count": null,
   "id": "e94a7a73",
   "metadata": {},
   "outputs": [],
   "source": [
    "mySeries1"
   ]
  },
  {
   "cell_type": "code",
   "execution_count": null,
   "id": "77f5e15a",
   "metadata": {},
   "outputs": [],
   "source": [
    "mySeries1[1] = 'A'\n",
    "mySeries1"
   ]
  },
  {
   "cell_type": "code",
   "execution_count": 5,
   "id": "12bca2f0",
   "metadata": {},
   "outputs": [
    {
     "data": {
      "text/plain": [
       "1    a\n",
       "2    a\n",
       "3    c\n",
       "4    d\n",
       "dtype: object"
      ]
     },
     "execution_count": 5,
     "metadata": {},
     "output_type": "execute_result"
    }
   ],
   "source": [
    "mySeries1[[1,2]] = ['a', 'a']\n",
    "mySeries1"
   ]
  },
  {
   "cell_type": "markdown",
   "id": "c928b5c8",
   "metadata": {},
   "source": [
    "### filtering"
   ]
  },
  {
   "cell_type": "code",
   "execution_count": 6,
   "id": "e0af64be",
   "metadata": {
    "scrolled": false
   },
   "outputs": [
    {
     "data": {
      "text/plain": [
       "1    a\n",
       "2    a\n",
       "dtype: object"
      ]
     },
     "execution_count": 6,
     "metadata": {},
     "output_type": "execute_result"
    }
   ],
   "source": [
    "mySeries1[mySeries1 == 'a']"
   ]
  },
  {
   "cell_type": "code",
   "execution_count": null,
   "id": "86c969cd",
   "metadata": {},
   "outputs": [],
   "source": []
  },
  {
   "cell_type": "code",
   "execution_count": null,
   "id": "4337f7c5",
   "metadata": {},
   "outputs": [],
   "source": [
    "mySeries1 == 'a'"
   ]
  },
  {
   "cell_type": "code",
   "execution_count": null,
   "id": "2d742f01",
   "metadata": {},
   "outputs": [],
   "source": []
  },
  {
   "cell_type": "code",
   "execution_count": null,
   "id": "d82ba0d4",
   "metadata": {},
   "outputs": [],
   "source": [
    "mySeries1.min()"
   ]
  },
  {
   "cell_type": "code",
   "execution_count": null,
   "id": "de129ca7",
   "metadata": {},
   "outputs": [],
   "source": [
    "mySeries1.max()"
   ]
  },
  {
   "cell_type": "code",
   "execution_count": null,
   "id": "1ce0b191",
   "metadata": {},
   "outputs": [],
   "source": []
  }
 ],
 "metadata": {
  "kernelspec": {
   "display_name": "Python 3",
   "language": "python",
   "name": "python3"
  },
  "language_info": {
   "codemirror_mode": {
    "name": "ipython",
    "version": 3
   },
   "file_extension": ".py",
   "mimetype": "text/x-python",
   "name": "python",
   "nbconvert_exporter": "python",
   "pygments_lexer": "ipython3",
   "version": "3.8.3"
  }
 },
 "nbformat": 4,
 "nbformat_minor": 5
}
